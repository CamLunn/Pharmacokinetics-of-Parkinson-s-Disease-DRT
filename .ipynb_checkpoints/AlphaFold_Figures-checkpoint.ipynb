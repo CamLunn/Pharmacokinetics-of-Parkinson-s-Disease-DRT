{
 "cells": [
  {
   "cell_type": "code",
   "execution_count": 6,
   "id": "14d2468b",
   "metadata": {},
   "outputs": [],
   "source": [
    "# Import cell (RUN THIS CELL TO TEST YOUR INSTALL/ENVIRONMENT)\n",
    "# part 1\n",
    "from Bio.PDB import *\n",
    "import nglview as nv\n",
    "import ipywidgets\n",
    "# part 2\n",
    "from Bio import SeqIO\n",
    "from Bio.Blast import NCBIWWW\n",
    "from Bio.Blast import NCBIXML\n",
    "import warnings\n",
    "warnings.filterwarnings('ignore')\n"
   ]
  },
  {
   "cell_type": "markdown",
   "id": "6baa1537",
   "metadata": {},
   "source": [
    "# MAO-B\n",
    "\n",
    "### Human Monoamine Oxidase B | 1GOS | https://www.rcsb.org/structure/1gos\n",
    "\n",
    "Description: An enzyme that catalyzes the oxidative damination of biogenic amines. It plays a key role in metabolizing neuoractive amines in the CNS and PNS. In particular, this enzyme metabolizes dopamine in the cleft between neurons. This enzyme is a key player in Parkinson's Disease, and MAO-B activity has an associated increase with age. \n",
    "\n",
    "Sources:\n",
    " - https://www.ncbi.nlm.nih.gov/gene/4129\n",
    " - https://content.iospress.com/articles/journal-of-parkinsons-disease/jpd212976"
   ]
  },
  {
   "cell_type": "code",
   "execution_count": 7,
   "id": "2ef0212f",
   "metadata": {},
   "outputs": [
    {
     "data": {
      "application/vnd.jupyter.widget-view+json": {
       "model_id": "013de9c3bf984236a0914ae189422d11",
       "version_major": 2,
       "version_minor": 0
      },
      "text/plain": [
       "NGLWidget()"
      ]
     },
     "metadata": {},
     "output_type": "display_data"
    }
   ],
   "source": [
    "pdb_parser = PDBParser()\n",
    "structure = pdb_parser.get_structure(\"P\", \"MGOB.pdb\")\n",
    "view = nv.show_biopython(structure)\n",
    "view"
   ]
  },
  {
   "cell_type": "markdown",
   "id": "6362f34a",
   "metadata": {},
   "source": [
    "# DDC\n",
    "\n",
    "### Dopa decarboxylase | 1JS3 | Protein Data Bank: https://www.rcsb.org/structure/1js3\n",
    "\n",
    "Description: This enzyme is essential in the biosynthetic pathway of dopamine. Specifically, DDC decarboxylates L-3,4-dihydroxyphenylalanine (L-dopa) into dopamine. This plays an essential role in Parkinson's Disease treatment. In the peripheral nervous system, DDC's will convert L-dopa into dopamine before it can reacht he BBB. This prevents the precursor molecule from passing into the brain where it can then be synthesized into dopamine. \n",
    "\n",
    "Source: https://www.ncbi.nlm.nih.gov/gene/1644"
   ]
  },
  {
   "cell_type": "code",
   "execution_count": 8,
   "id": "859a3f65",
   "metadata": {},
   "outputs": [
    {
     "data": {
      "application/vnd.jupyter.widget-view+json": {
       "model_id": "1852e64559df4a2ab48307e9c34d69c3",
       "version_major": 2,
       "version_minor": 0
      },
      "text/plain": [
       "NGLWidget()"
      ]
     },
     "metadata": {},
     "output_type": "display_data"
    }
   ],
   "source": [
    "pdb_parser = PDBParser()\n",
    "structure = pdb_parser.get_structure(\"P\", \"DDC.pdb\")\n",
    "view = nv.show_biopython(structure)\n",
    "view"
   ]
  },
  {
   "cell_type": "markdown",
   "id": "d8e26f96",
   "metadata": {},
   "source": [
    "# COMT\n",
    "\n",
    "### Human Catechol O-Methyltransferase | 3BWM | https://www.rcsb.org/structure/3BWM\n",
    "\n",
    "Description: The COMT enzyme plays a role in the metabolic pathway of neurotransmitters. Specifically, COMT transfers a methyl group to the dopamine - marking for degradation. This protein plays an important role in Parkinson's Disease treament due to its role in degrading dopamine in the CNS. \n",
    "\n",
    "Source: https://www.ncbi.nlm.nih.gov/gene/1312"
   ]
  },
  {
   "cell_type": "code",
   "execution_count": 9,
   "id": "eaf337f2",
   "metadata": {},
   "outputs": [
    {
     "data": {
      "application/vnd.jupyter.widget-view+json": {
       "model_id": "1cb9fc1322cb4c8683017ddb2e8a2227",
       "version_major": 2,
       "version_minor": 0
      },
      "text/plain": [
       "NGLWidget()"
      ]
     },
     "metadata": {},
     "output_type": "display_data"
    }
   ],
   "source": [
    "pdb_parser = PDBParser()\n",
    "structure = pdb_parser.get_structure(\"P\", \"COMT.pdb\")\n",
    "view = nv.show_biopython(structure)\n",
    "view"
   ]
  }
 ],
 "metadata": {
  "kernelspec": {
   "display_name": "Python 3 (ipykernel)",
   "language": "python",
   "name": "python3"
  },
  "language_info": {
   "codemirror_mode": {
    "name": "ipython",
    "version": 3
   },
   "file_extension": ".py",
   "mimetype": "text/x-python",
   "name": "python",
   "nbconvert_exporter": "python",
   "pygments_lexer": "ipython3",
   "version": "3.11.0"
  }
 },
 "nbformat": 4,
 "nbformat_minor": 5
}
